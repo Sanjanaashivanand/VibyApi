{
 "cells": [
  {
   "cell_type": "code",
   "execution_count": 1,
   "id": "240e9e60",
   "metadata": {},
   "outputs": [],
   "source": [
    "import numpy as np\n",
    "import matplotlib.pyplot as plt\n",
    "import pandas as pd"
   ]
  },
  {
   "cell_type": "markdown",
   "id": "892153fe",
   "metadata": {},
   "source": [
    "# Importing Data"
   ]
  },
  {
   "cell_type": "code",
   "execution_count": 2,
   "id": "31a63dcd",
   "metadata": {},
   "outputs": [],
   "source": [
    "Dataset = pd.read_csv('./Data/Training/TrainingDataset.csv')\n",
    "Dataset = Dataset.drop(['track_name','artist_name','album_name','album_cover','release_date',\n",
    "                        'preview_link','spotify_link','name', 'length','timeSignature'], axis=1)"
   ]
  },
  {
   "cell_type": "code",
   "execution_count": 3,
   "id": "9edf63ba",
   "metadata": {},
   "outputs": [
    {
     "data": {
      "text/plain": [
       "True"
      ]
     },
     "execution_count": 3,
     "metadata": {},
     "output_type": "execute_result"
    }
   ],
   "source": [
    "Dataset.isnull().values.any()"
   ]
  },
  {
   "cell_type": "code",
   "execution_count": 4,
   "id": "8f634e61",
   "metadata": {},
   "outputs": [],
   "source": [
    "Dataset.dropna(inplace=True)"
   ]
  },
  {
   "cell_type": "code",
   "execution_count": 5,
   "id": "4523d54f",
   "metadata": {},
   "outputs": [
    {
     "data": {
      "text/html": [
       "<div>\n",
       "<style scoped>\n",
       "    .dataframe tbody tr th:only-of-type {\n",
       "        vertical-align: middle;\n",
       "    }\n",
       "\n",
       "    .dataframe tbody tr th {\n",
       "        vertical-align: top;\n",
       "    }\n",
       "\n",
       "    .dataframe thead th {\n",
       "        text-align: right;\n",
       "    }\n",
       "</style>\n",
       "<table border=\"1\" class=\"dataframe\">\n",
       "  <thead>\n",
       "    <tr style=\"text-align: right;\">\n",
       "      <th></th>\n",
       "      <th>id</th>\n",
       "      <th>playlist_mood</th>\n",
       "      <th>acousticness</th>\n",
       "      <th>danceability</th>\n",
       "      <th>energy</th>\n",
       "      <th>instrumentalness</th>\n",
       "      <th>liveness</th>\n",
       "      <th>loudness</th>\n",
       "      <th>speechiness</th>\n",
       "      <th>tempo</th>\n",
       "      <th>valence</th>\n",
       "    </tr>\n",
       "  </thead>\n",
       "  <tbody>\n",
       "    <tr>\n",
       "      <th>3786</th>\n",
       "      <td>2vR23BjIzpLMtzsyKrM6Mb</td>\n",
       "      <td>Sad</td>\n",
       "      <td>0.650000</td>\n",
       "      <td>0.473</td>\n",
       "      <td>0.5620</td>\n",
       "      <td>0.000117</td>\n",
       "      <td>0.1200</td>\n",
       "      <td>-8.624</td>\n",
       "      <td>0.0451</td>\n",
       "      <td>74.653</td>\n",
       "      <td>0.316</td>\n",
       "    </tr>\n",
       "    <tr>\n",
       "      <th>4331</th>\n",
       "      <td>5anCkDvJ17aznvK5TED5uo</td>\n",
       "      <td>Angry</td>\n",
       "      <td>0.000297</td>\n",
       "      <td>0.580</td>\n",
       "      <td>0.9160</td>\n",
       "      <td>0.025900</td>\n",
       "      <td>0.1260</td>\n",
       "      <td>-4.358</td>\n",
       "      <td>0.0387</td>\n",
       "      <td>118.004</td>\n",
       "      <td>0.683</td>\n",
       "    </tr>\n",
       "    <tr>\n",
       "      <th>2747</th>\n",
       "      <td>5wMvw6fFXoeINA8v4Ru13n</td>\n",
       "      <td>Sleepy</td>\n",
       "      <td>0.831000</td>\n",
       "      <td>0.617</td>\n",
       "      <td>0.0373</td>\n",
       "      <td>0.941000</td>\n",
       "      <td>0.1050</td>\n",
       "      <td>-20.707</td>\n",
       "      <td>0.0415</td>\n",
       "      <td>111.705</td>\n",
       "      <td>0.432</td>\n",
       "    </tr>\n",
       "    <tr>\n",
       "      <th>4132</th>\n",
       "      <td>2UnVVvPuDs4I812CXFL1pr</td>\n",
       "      <td>Angry</td>\n",
       "      <td>0.000251</td>\n",
       "      <td>0.474</td>\n",
       "      <td>0.9890</td>\n",
       "      <td>0.000096</td>\n",
       "      <td>0.3280</td>\n",
       "      <td>-4.110</td>\n",
       "      <td>0.1980</td>\n",
       "      <td>109.982</td>\n",
       "      <td>0.106</td>\n",
       "    </tr>\n",
       "    <tr>\n",
       "      <th>3113</th>\n",
       "      <td>63M0QKW2WEhUPJO13b2Nga</td>\n",
       "      <td>Depressed</td>\n",
       "      <td>0.590000</td>\n",
       "      <td>0.595</td>\n",
       "      <td>0.5950</td>\n",
       "      <td>0.000020</td>\n",
       "      <td>0.1640</td>\n",
       "      <td>-7.102</td>\n",
       "      <td>0.0289</td>\n",
       "      <td>88.976</td>\n",
       "      <td>0.526</td>\n",
       "    </tr>\n",
       "    <tr>\n",
       "      <th>...</th>\n",
       "      <td>...</td>\n",
       "      <td>...</td>\n",
       "      <td>...</td>\n",
       "      <td>...</td>\n",
       "      <td>...</td>\n",
       "      <td>...</td>\n",
       "      <td>...</td>\n",
       "      <td>...</td>\n",
       "      <td>...</td>\n",
       "      <td>...</td>\n",
       "      <td>...</td>\n",
       "    </tr>\n",
       "    <tr>\n",
       "      <th>368</th>\n",
       "      <td>7gEbuXht8gYcA5OdN9zUpy</td>\n",
       "      <td>Excited</td>\n",
       "      <td>0.001980</td>\n",
       "      <td>0.595</td>\n",
       "      <td>0.8870</td>\n",
       "      <td>0.000039</td>\n",
       "      <td>0.0518</td>\n",
       "      <td>-3.607</td>\n",
       "      <td>0.0387</td>\n",
       "      <td>124.073</td>\n",
       "      <td>0.571</td>\n",
       "    </tr>\n",
       "    <tr>\n",
       "      <th>3188</th>\n",
       "      <td>0oYotQ2JWzGJ4VkGz3TfCk</td>\n",
       "      <td>Depressed</td>\n",
       "      <td>0.297000</td>\n",
       "      <td>0.402</td>\n",
       "      <td>0.4230</td>\n",
       "      <td>0.063000</td>\n",
       "      <td>0.3440</td>\n",
       "      <td>-11.150</td>\n",
       "      <td>0.0594</td>\n",
       "      <td>94.710</td>\n",
       "      <td>0.410</td>\n",
       "    </tr>\n",
       "    <tr>\n",
       "      <th>3909</th>\n",
       "      <td>0W9Xvd4Qx1aZPxEi94vgRY</td>\n",
       "      <td>Angry</td>\n",
       "      <td>0.000049</td>\n",
       "      <td>0.328</td>\n",
       "      <td>0.9390</td>\n",
       "      <td>0.006500</td>\n",
       "      <td>0.3370</td>\n",
       "      <td>-1.654</td>\n",
       "      <td>0.0423</td>\n",
       "      <td>185.971</td>\n",
       "      <td>0.329</td>\n",
       "    </tr>\n",
       "    <tr>\n",
       "      <th>2535</th>\n",
       "      <td>2C8lzS60apZalxtP83IM7w</td>\n",
       "      <td>Sleepy</td>\n",
       "      <td>0.428000</td>\n",
       "      <td>0.669</td>\n",
       "      <td>0.1440</td>\n",
       "      <td>0.883000</td>\n",
       "      <td>0.2940</td>\n",
       "      <td>-22.429</td>\n",
       "      <td>0.0761</td>\n",
       "      <td>185.921</td>\n",
       "      <td>0.280</td>\n",
       "    </tr>\n",
       "    <tr>\n",
       "      <th>585</th>\n",
       "      <td>64tCsJOa1BkDS09PuqTEy6</td>\n",
       "      <td>Delighted</td>\n",
       "      <td>0.170000</td>\n",
       "      <td>0.510</td>\n",
       "      <td>0.6190</td>\n",
       "      <td>0.000001</td>\n",
       "      <td>0.0664</td>\n",
       "      <td>-12.806</td>\n",
       "      <td>0.0370</td>\n",
       "      <td>129.482</td>\n",
       "      <td>0.823</td>\n",
       "    </tr>\n",
       "  </tbody>\n",
       "</table>\n",
       "<p>3854 rows × 11 columns</p>\n",
       "</div>"
      ],
      "text/plain": [
       "                          id playlist_mood  acousticness  danceability  \\\n",
       "3786  2vR23BjIzpLMtzsyKrM6Mb           Sad      0.650000         0.473   \n",
       "4331  5anCkDvJ17aznvK5TED5uo         Angry      0.000297         0.580   \n",
       "2747  5wMvw6fFXoeINA8v4Ru13n        Sleepy      0.831000         0.617   \n",
       "4132  2UnVVvPuDs4I812CXFL1pr         Angry      0.000251         0.474   \n",
       "3113  63M0QKW2WEhUPJO13b2Nga     Depressed      0.590000         0.595   \n",
       "...                      ...           ...           ...           ...   \n",
       "368   7gEbuXht8gYcA5OdN9zUpy       Excited      0.001980         0.595   \n",
       "3188  0oYotQ2JWzGJ4VkGz3TfCk     Depressed      0.297000         0.402   \n",
       "3909  0W9Xvd4Qx1aZPxEi94vgRY         Angry      0.000049         0.328   \n",
       "2535  2C8lzS60apZalxtP83IM7w        Sleepy      0.428000         0.669   \n",
       "585   64tCsJOa1BkDS09PuqTEy6     Delighted      0.170000         0.510   \n",
       "\n",
       "      energy  instrumentalness  liveness  loudness  speechiness    tempo  \\\n",
       "3786  0.5620          0.000117    0.1200    -8.624       0.0451   74.653   \n",
       "4331  0.9160          0.025900    0.1260    -4.358       0.0387  118.004   \n",
       "2747  0.0373          0.941000    0.1050   -20.707       0.0415  111.705   \n",
       "4132  0.9890          0.000096    0.3280    -4.110       0.1980  109.982   \n",
       "3113  0.5950          0.000020    0.1640    -7.102       0.0289   88.976   \n",
       "...      ...               ...       ...       ...          ...      ...   \n",
       "368   0.8870          0.000039    0.0518    -3.607       0.0387  124.073   \n",
       "3188  0.4230          0.063000    0.3440   -11.150       0.0594   94.710   \n",
       "3909  0.9390          0.006500    0.3370    -1.654       0.0423  185.971   \n",
       "2535  0.1440          0.883000    0.2940   -22.429       0.0761  185.921   \n",
       "585   0.6190          0.000001    0.0664   -12.806       0.0370  129.482   \n",
       "\n",
       "      valence  \n",
       "3786    0.316  \n",
       "4331    0.683  \n",
       "2747    0.432  \n",
       "4132    0.106  \n",
       "3113    0.526  \n",
       "...       ...  \n",
       "368     0.571  \n",
       "3188    0.410  \n",
       "3909    0.329  \n",
       "2535    0.280  \n",
       "585     0.823  \n",
       "\n",
       "[3854 rows x 11 columns]"
      ]
     },
     "execution_count": 5,
     "metadata": {},
     "output_type": "execute_result"
    }
   ],
   "source": [
    "Dataset = Dataset.sample(frac=1)\n",
    "Dataset = Dataset.drop_duplicates(subset=[\"id\"], keep=False)\n",
    "Dataset"
   ]
  },
  {
   "cell_type": "code",
   "execution_count": 6,
   "id": "36baa989",
   "metadata": {},
   "outputs": [],
   "source": [
    "X = Dataset.iloc[:, 2:]\n",
    "y = Dataset.iloc[:, 1]"
   ]
  },
  {
   "cell_type": "markdown",
   "id": "7b6b854e",
   "metadata": {},
   "source": [
    "# Data Preprocessing"
   ]
  },
  {
   "cell_type": "code",
   "execution_count": 7,
   "id": "c8261e6f",
   "metadata": {},
   "outputs": [],
   "source": [
    "#Encoding\n",
    "yLabels = y.copy()\n",
    "\n",
    "from sklearn.preprocessing import LabelEncoder\n",
    "le = LabelEncoder()\n",
    "y = le.fit_transform(y)"
   ]
  },
  {
   "cell_type": "code",
   "execution_count": 8,
   "id": "b69eb8dd",
   "metadata": {},
   "outputs": [],
   "source": [
    "DecodingMap = pd.DataFrame({'encoding': y,'mood': yLabels}).drop_duplicates().set_index('mood')"
   ]
  },
  {
   "cell_type": "code",
   "execution_count": 9,
   "id": "5b0be265",
   "metadata": {},
   "outputs": [],
   "source": [
    "#train test split\n",
    "from sklearn.model_selection import train_test_split\n",
    "X_train, X_test, y_train, y_test = train_test_split(X, y, test_size=0.2, random_state=1)"
   ]
  },
  {
   "cell_type": "code",
   "execution_count": 10,
   "id": "89e03728",
   "metadata": {},
   "outputs": [
    {
     "name": "stdout",
     "output_type": "stream",
     "text": [
      "      acousticness  danceability  energy  instrumentalness  liveness  \\\n",
      "2735      0.994000         0.242  0.0159          0.844000    0.1070   \n",
      "529       0.503000         0.510  0.4800          0.000000    0.1060   \n",
      "3387      0.903000         0.578  0.3190          0.000122    0.1090   \n",
      "1794      0.023100         0.387  0.8430          0.000000    0.5030   \n",
      "4084      0.000011         0.429  0.9730          0.003810    0.0776   \n",
      "...            ...           ...     ...               ...       ...   \n",
      "2254      0.162000         0.550  0.5960          0.004810    0.0805   \n",
      "718       0.943000         0.439  0.0695          0.000006    0.1330   \n",
      "678       0.977000         0.496  0.1330          0.012300    0.1190   \n",
      "2854      0.980000         0.187  0.0213          0.970000    0.0990   \n",
      "3702      0.719000         0.319  0.5520          0.000000    0.1440   \n",
      "\n",
      "      loudness  speechiness    tempo  valence  \n",
      "2735   -33.716       0.0561  138.096   0.1100  \n",
      "529     -6.567       0.0452  182.862   0.4960  \n",
      "3387    -8.895       0.0260  130.894   0.1480  \n",
      "1794    -4.221       0.0539  168.149   0.3780  \n",
      "4084    -2.160       0.1320  158.106   0.3520  \n",
      "...        ...          ...      ...      ...  \n",
      "2254    -8.214       0.1340  165.736   0.2530  \n",
      "718    -17.333       0.0396  121.575   0.1960  \n",
      "678    -14.689       0.0360  138.095   0.2120  \n",
      "2854   -30.868       0.0427   67.927   0.0372  \n",
      "3702    -6.401       0.0307   93.991   0.2210  \n",
      "\n",
      "[3083 rows x 9 columns]\n"
     ]
    }
   ],
   "source": [
    "print(X_train)"
   ]
  },
  {
   "cell_type": "code",
   "execution_count": 11,
   "id": "1aa8ae55",
   "metadata": {},
   "outputs": [],
   "source": [
    "#Feature Scaling\n",
    "from sklearn.preprocessing import StandardScaler\n",
    "sc = StandardScaler()\n",
    "X_train = sc.fit_transform(X_train)\n",
    "X_test = sc.transform(X_test)"
   ]
  },
  {
   "cell_type": "markdown",
   "id": "e5c6fa61",
   "metadata": {},
   "source": [
    "# Logistic Regression"
   ]
  },
  {
   "cell_type": "code",
   "execution_count": 12,
   "id": "14842c30",
   "metadata": {},
   "outputs": [
    {
     "data": {
      "text/plain": [
       "LogisticRegression(max_iter=2000, random_state=0)"
      ]
     },
     "execution_count": 12,
     "metadata": {},
     "output_type": "execute_result"
    }
   ],
   "source": [
    "from sklearn.linear_model import LogisticRegression\n",
    "classifier = LogisticRegression(random_state = 0, max_iter=2000)\n",
    "classifier.fit(X_train, y_train)"
   ]
  },
  {
   "cell_type": "code",
   "execution_count": 13,
   "id": "24d05a8f",
   "metadata": {},
   "outputs": [],
   "source": [
    "y_pred = classifier.predict(X_test)"
   ]
  },
  {
   "cell_type": "code",
   "execution_count": 14,
   "id": "1e0b8176",
   "metadata": {},
   "outputs": [
    {
     "data": {
      "text/plain": [
       "0.5616083009079118"
      ]
     },
     "execution_count": 14,
     "metadata": {},
     "output_type": "execute_result"
    }
   ],
   "source": [
    "from sklearn.metrics import accuracy_score\n",
    "accuracy_score(y_test, y_pred)"
   ]
  },
  {
   "cell_type": "markdown",
   "id": "6ae16220",
   "metadata": {},
   "source": [
    "# KNN"
   ]
  },
  {
   "cell_type": "code",
   "execution_count": 15,
   "id": "ef56fac2",
   "metadata": {},
   "outputs": [
    {
     "data": {
      "text/plain": [
       "KNeighborsClassifier()"
      ]
     },
     "execution_count": 15,
     "metadata": {},
     "output_type": "execute_result"
    }
   ],
   "source": [
    "from sklearn.neighbors import KNeighborsClassifier\n",
    "classifier = KNeighborsClassifier(n_neighbors = 5, metric = 'minkowski', p = 2)\n",
    "classifier.fit(X_train, y_train)"
   ]
  },
  {
   "cell_type": "code",
   "execution_count": 16,
   "id": "d5c434ce",
   "metadata": {},
   "outputs": [],
   "source": [
    "y_pred = classifier.predict(X_test)"
   ]
  },
  {
   "cell_type": "code",
   "execution_count": 17,
   "id": "7df84893",
   "metadata": {},
   "outputs": [
    {
     "data": {
      "text/plain": [
       "0.5603112840466926"
      ]
     },
     "execution_count": 17,
     "metadata": {},
     "output_type": "execute_result"
    }
   ],
   "source": [
    "from sklearn.metrics import accuracy_score\n",
    "accuracy_score(y_test, y_pred)"
   ]
  },
  {
   "cell_type": "markdown",
   "id": "952407e7",
   "metadata": {},
   "source": [
    "# SVM"
   ]
  },
  {
   "cell_type": "code",
   "execution_count": 18,
   "id": "4c0096dc",
   "metadata": {},
   "outputs": [
    {
     "data": {
      "text/plain": [
       "SVC(kernel='linear', random_state=0)"
      ]
     },
     "execution_count": 18,
     "metadata": {},
     "output_type": "execute_result"
    }
   ],
   "source": [
    "from sklearn.svm import SVC\n",
    "classifier = SVC(kernel = 'linear', random_state = 0)\n",
    "classifier.fit(X_train, y_train)"
   ]
  },
  {
   "cell_type": "code",
   "execution_count": 19,
   "id": "b946ab14",
   "metadata": {},
   "outputs": [],
   "source": [
    "y_pred = classifier.predict(X_test)"
   ]
  },
  {
   "cell_type": "code",
   "execution_count": 20,
   "id": "a502f2d9",
   "metadata": {},
   "outputs": [
    {
     "data": {
      "text/plain": [
       "0.5836575875486382"
      ]
     },
     "execution_count": 20,
     "metadata": {},
     "output_type": "execute_result"
    }
   ],
   "source": [
    "from sklearn.metrics import accuracy_score\n",
    "accuracy_score(y_test, y_pred)"
   ]
  },
  {
   "cell_type": "markdown",
   "id": "3216ea09",
   "metadata": {},
   "source": [
    "# Kernel SVM"
   ]
  },
  {
   "cell_type": "code",
   "execution_count": 21,
   "id": "a134a44c",
   "metadata": {},
   "outputs": [
    {
     "data": {
      "text/plain": [
       "SVC(random_state=0)"
      ]
     },
     "execution_count": 21,
     "metadata": {},
     "output_type": "execute_result"
    }
   ],
   "source": [
    "from sklearn.svm import SVC\n",
    "classifier = SVC(kernel = 'rbf', random_state = 0)\n",
    "classifier.fit(X_train, y_train)"
   ]
  },
  {
   "cell_type": "code",
   "execution_count": 22,
   "id": "9b000d44",
   "metadata": {},
   "outputs": [],
   "source": [
    "y_pred = classifier.predict(X_test)"
   ]
  },
  {
   "cell_type": "code",
   "execution_count": 23,
   "id": "471bd978",
   "metadata": {},
   "outputs": [
    {
     "data": {
      "text/plain": [
       "0.6212710765239948"
      ]
     },
     "execution_count": 23,
     "metadata": {},
     "output_type": "execute_result"
    }
   ],
   "source": [
    "from sklearn.metrics import accuracy_score\n",
    "accuracy_score(y_test, y_pred)"
   ]
  },
  {
   "cell_type": "markdown",
   "id": "2094145b",
   "metadata": {},
   "source": [
    "# Naive Bayes "
   ]
  },
  {
   "cell_type": "code",
   "execution_count": 24,
   "id": "b88b1496",
   "metadata": {},
   "outputs": [
    {
     "data": {
      "text/plain": [
       "GaussianNB()"
      ]
     },
     "execution_count": 24,
     "metadata": {},
     "output_type": "execute_result"
    }
   ],
   "source": [
    "from sklearn.naive_bayes import GaussianNB\n",
    "classifier = GaussianNB()\n",
    "classifier.fit(X_train, y_train)"
   ]
  },
  {
   "cell_type": "code",
   "execution_count": 25,
   "id": "2c598319",
   "metadata": {},
   "outputs": [],
   "source": [
    "y_pred = classifier.predict(X_test)"
   ]
  },
  {
   "cell_type": "code",
   "execution_count": 26,
   "id": "643d47dd",
   "metadata": {},
   "outputs": [
    {
     "data": {
      "text/plain": [
       "0.490272373540856"
      ]
     },
     "execution_count": 26,
     "metadata": {},
     "output_type": "execute_result"
    }
   ],
   "source": [
    "from sklearn.metrics import accuracy_score\n",
    "accuracy_score(y_test, y_pred)"
   ]
  },
  {
   "cell_type": "markdown",
   "id": "8e9bf94b",
   "metadata": {},
   "source": [
    "# Descision Tree"
   ]
  },
  {
   "cell_type": "code",
   "execution_count": 27,
   "id": "4660d02f",
   "metadata": {},
   "outputs": [
    {
     "data": {
      "text/plain": [
       "DecisionTreeClassifier(criterion='entropy', random_state=0)"
      ]
     },
     "execution_count": 27,
     "metadata": {},
     "output_type": "execute_result"
    }
   ],
   "source": [
    "from sklearn.tree import DecisionTreeClassifier\n",
    "classifier = DecisionTreeClassifier(criterion = 'entropy', random_state = 0)\n",
    "classifier.fit(X_train, y_train)"
   ]
  },
  {
   "cell_type": "code",
   "execution_count": 28,
   "id": "c91ba1f0",
   "metadata": {},
   "outputs": [],
   "source": [
    "y_pred = classifier.predict(X_test)"
   ]
  },
  {
   "cell_type": "code",
   "execution_count": 29,
   "id": "b1f45e08",
   "metadata": {},
   "outputs": [
    {
     "data": {
      "text/plain": [
       "0.51621271076524"
      ]
     },
     "execution_count": 29,
     "metadata": {},
     "output_type": "execute_result"
    }
   ],
   "source": [
    "from sklearn.metrics import accuracy_score\n",
    "accuracy_score(y_test, y_pred)"
   ]
  },
  {
   "cell_type": "markdown",
   "id": "adda7864",
   "metadata": {},
   "source": [
    "# Random Forest"
   ]
  },
  {
   "cell_type": "code",
   "execution_count": 30,
   "id": "6a9938ca",
   "metadata": {},
   "outputs": [
    {
     "data": {
      "text/plain": [
       "RandomForestClassifier(criterion='entropy', n_estimators=10, random_state=0)"
      ]
     },
     "execution_count": 30,
     "metadata": {},
     "output_type": "execute_result"
    }
   ],
   "source": [
    "from sklearn.ensemble import RandomForestClassifier\n",
    "RFclassifier = RandomForestClassifier(n_estimators = 10, criterion = 'entropy', random_state = 0)\n",
    "RFclassifier.fit(X_train, y_train)"
   ]
  },
  {
   "cell_type": "code",
   "execution_count": 31,
   "id": "7b3aeee8",
   "metadata": {},
   "outputs": [],
   "source": [
    "y_pred = RFclassifier.predict(X_test)"
   ]
  },
  {
   "cell_type": "code",
   "execution_count": 32,
   "id": "65d8b06f",
   "metadata": {},
   "outputs": [
    {
     "data": {
      "text/plain": [
       "0.6057068741893644"
      ]
     },
     "execution_count": 32,
     "metadata": {},
     "output_type": "execute_result"
    }
   ],
   "source": [
    "from sklearn.metrics import accuracy_score\n",
    "accuracy_score(y_test, y_pred)"
   ]
  },
  {
   "cell_type": "markdown",
   "id": "171d3cec",
   "metadata": {},
   "source": [
    "# Deploying the model"
   ]
  },
  {
   "cell_type": "code",
   "execution_count": 33,
   "id": "b6009642",
   "metadata": {},
   "outputs": [],
   "source": [
    "Test_Data = pd.read_csv('../Dataset.csv')\n",
    "Test_Data = Test_Data.drop_duplicates(subset=[\"id\"], keep='first')\n",
    "X = Test_Data[['acousticness','danceability','energy','instrumentalness','liveness','loudness','speechiness','tempo','valence']]"
   ]
  },
  {
   "cell_type": "code",
   "execution_count": 34,
   "id": "a1691adf",
   "metadata": {},
   "outputs": [
    {
     "data": {
      "text/plain": [
       "array([[-0.73156701,  0.50698796,  0.19847943, ..., -0.73145496,\n",
       "        -0.53370286, -0.25088996],\n",
       "       [ 0.56809905,  0.02932305, -0.49080638, ..., -0.38269871,\n",
       "         0.06236629, -1.0641939 ],\n",
       "       [ 0.57068288,  0.58497407, -0.28951053, ..., -0.67529929,\n",
       "        -0.75500962,  0.21038691],\n",
       "       ...,\n",
       "       [-1.07831689, -0.31674031,  1.34525583, ...,  0.79804808,\n",
       "        -0.70970248,  0.22657206],\n",
       "       [ 1.24764612,  0.01957479, -1.16179257, ..., -0.33540973,\n",
       "         0.43540658, -0.20638078],\n",
       "       [-0.57653726,  1.61829001,  0.93656424, ...,  1.16749326,\n",
       "         0.1849492 ,  1.85722625]])"
      ]
     },
     "execution_count": 34,
     "metadata": {},
     "output_type": "execute_result"
    }
   ],
   "source": [
    "X = sc.transform(X)\n",
    "X"
   ]
  },
  {
   "cell_type": "code",
   "execution_count": 35,
   "id": "54e45ead",
   "metadata": {},
   "outputs": [
    {
     "data": {
      "text/plain": [
       "array([2, 7, 3, ..., 0, 4, 6])"
      ]
     },
     "execution_count": 35,
     "metadata": {},
     "output_type": "execute_result"
    }
   ],
   "source": [
    "RFclassifier.predict(X)"
   ]
  },
  {
   "cell_type": "code",
   "execution_count": 36,
   "id": "a0255c3f",
   "metadata": {},
   "outputs": [
    {
     "data": {
      "text/html": [
       "<div>\n",
       "<style scoped>\n",
       "    .dataframe tbody tr th:only-of-type {\n",
       "        vertical-align: middle;\n",
       "    }\n",
       "\n",
       "    .dataframe tbody tr th {\n",
       "        vertical-align: top;\n",
       "    }\n",
       "\n",
       "    .dataframe thead th {\n",
       "        text-align: right;\n",
       "    }\n",
       "</style>\n",
       "<table border=\"1\" class=\"dataframe\">\n",
       "  <thead>\n",
       "    <tr style=\"text-align: right;\">\n",
       "      <th></th>\n",
       "      <th>id</th>\n",
       "      <th>genre</th>\n",
       "      <th>track_name</th>\n",
       "      <th>artist_name</th>\n",
       "      <th>album_name</th>\n",
       "      <th>album_cover</th>\n",
       "      <th>release_date</th>\n",
       "      <th>preview_link</th>\n",
       "      <th>spotify_link</th>\n",
       "      <th>acousticness</th>\n",
       "      <th>danceability</th>\n",
       "      <th>energy</th>\n",
       "      <th>instrumentalness</th>\n",
       "      <th>liveness</th>\n",
       "      <th>loudness</th>\n",
       "      <th>speechiness</th>\n",
       "      <th>tempo</th>\n",
       "      <th>valence</th>\n",
       "      <th>playlist_mood</th>\n",
       "    </tr>\n",
       "  </thead>\n",
       "  <tbody>\n",
       "    <tr>\n",
       "      <th>0</th>\n",
       "      <td>4gs07VlJST4bdxGbBsXVue</td>\n",
       "      <td>acoustic</td>\n",
       "      <td>Heartbreak Warfare</td>\n",
       "      <td>John Mayer</td>\n",
       "      <td>Battle Studies</td>\n",
       "      <td>https://i.scdn.co/image/ab67616d0000b2731e3dbe...</td>\n",
       "      <td>2009-11-13</td>\n",
       "      <td>https://p.scdn.co/mp3-preview/cce088114300e08d...</td>\n",
       "      <td>https://open.spotify.com/track/4gs07VlJST4bdxG...</td>\n",
       "      <td>0.1910</td>\n",
       "      <td>0.624</td>\n",
       "      <td>0.554</td>\n",
       "      <td>0.001310</td>\n",
       "      <td>0.2990</td>\n",
       "      <td>-8.113</td>\n",
       "      <td>0.0225</td>\n",
       "      <td>97.031</td>\n",
       "      <td>0.3110</td>\n",
       "      <td>2</td>\n",
       "    </tr>\n",
       "    <tr>\n",
       "      <th>1</th>\n",
       "      <td>0SuG9kyzGRpDqrCWtgD6Lq</td>\n",
       "      <td>acoustic</td>\n",
       "      <td>Give Me Love</td>\n",
       "      <td>Ed Sheeran</td>\n",
       "      <td>+</td>\n",
       "      <td>https://i.scdn.co/image/ab67616d0000b273ed139c...</td>\n",
       "      <td>2011-09-09</td>\n",
       "      <td>https://p.scdn.co/mp3-preview/1750e0969080492c...</td>\n",
       "      <td>https://open.spotify.com/track/0SuG9kyzGRpDqrC...</td>\n",
       "      <td>0.6940</td>\n",
       "      <td>0.526</td>\n",
       "      <td>0.328</td>\n",
       "      <td>0.000000</td>\n",
       "      <td>0.1120</td>\n",
       "      <td>-9.864</td>\n",
       "      <td>0.0461</td>\n",
       "      <td>116.068</td>\n",
       "      <td>0.1100</td>\n",
       "      <td>7</td>\n",
       "    </tr>\n",
       "    <tr>\n",
       "      <th>2</th>\n",
       "      <td>0vWjNkwgkTnyzfeLdTKWJ7</td>\n",
       "      <td>acoustic</td>\n",
       "      <td>Roar</td>\n",
       "      <td>Alex Goot,Sam Tsui</td>\n",
       "      <td>Roar</td>\n",
       "      <td>https://i.scdn.co/image/ab67616d0000b273742fa6...</td>\n",
       "      <td>2013-09-17</td>\n",
       "      <td>https://p.scdn.co/mp3-preview/bf9138f2eb6dbed3...</td>\n",
       "      <td>https://open.spotify.com/track/0vWjNkwgkTnyzfe...</td>\n",
       "      <td>0.6950</td>\n",
       "      <td>0.640</td>\n",
       "      <td>0.394</td>\n",
       "      <td>0.000000</td>\n",
       "      <td>0.0741</td>\n",
       "      <td>-7.258</td>\n",
       "      <td>0.0263</td>\n",
       "      <td>89.963</td>\n",
       "      <td>0.4250</td>\n",
       "      <td>3</td>\n",
       "    </tr>\n",
       "    <tr>\n",
       "      <th>3</th>\n",
       "      <td>1NdgDGYG4J827IvfeDgF4o</td>\n",
       "      <td>acoustic</td>\n",
       "      <td>Dear Mr. President</td>\n",
       "      <td>P!nk</td>\n",
       "      <td>The People Speak</td>\n",
       "      <td>https://i.scdn.co/image/ab67616d0000b27380f5f9...</td>\n",
       "      <td>2009-01-01</td>\n",
       "      <td>NaN</td>\n",
       "      <td>https://open.spotify.com/track/1NdgDGYG4J827Iv...</td>\n",
       "      <td>0.8490</td>\n",
       "      <td>0.476</td>\n",
       "      <td>0.299</td>\n",
       "      <td>0.000000</td>\n",
       "      <td>0.1130</td>\n",
       "      <td>-9.154</td>\n",
       "      <td>0.0385</td>\n",
       "      <td>128.039</td>\n",
       "      <td>0.2970</td>\n",
       "      <td>7</td>\n",
       "    </tr>\n",
       "    <tr>\n",
       "      <th>4</th>\n",
       "      <td>54KFQB6N4pn926IUUYZGzK</td>\n",
       "      <td>acoustic</td>\n",
       "      <td>To Build A Home</td>\n",
       "      <td>The Cinematic Orchestra,Patrick Watson</td>\n",
       "      <td>Ma Fleur</td>\n",
       "      <td>https://i.scdn.co/image/ab67616d0000b273e91011...</td>\n",
       "      <td>2007-05-07</td>\n",
       "      <td>https://p.scdn.co/mp3-preview/9f30342a6568f55c...</td>\n",
       "      <td>https://open.spotify.com/track/54KFQB6N4pn926I...</td>\n",
       "      <td>0.8850</td>\n",
       "      <td>0.264</td>\n",
       "      <td>0.122</td>\n",
       "      <td>0.349000</td>\n",
       "      <td>0.0940</td>\n",
       "      <td>-15.399</td>\n",
       "      <td>0.0349</td>\n",
       "      <td>148.658</td>\n",
       "      <td>0.0735</td>\n",
       "      <td>1</td>\n",
       "    </tr>\n",
       "    <tr>\n",
       "      <th>...</th>\n",
       "      <td>...</td>\n",
       "      <td>...</td>\n",
       "      <td>...</td>\n",
       "      <td>...</td>\n",
       "      <td>...</td>\n",
       "      <td>...</td>\n",
       "      <td>...</td>\n",
       "      <td>...</td>\n",
       "      <td>...</td>\n",
       "      <td>...</td>\n",
       "      <td>...</td>\n",
       "      <td>...</td>\n",
       "      <td>...</td>\n",
       "      <td>...</td>\n",
       "      <td>...</td>\n",
       "      <td>...</td>\n",
       "      <td>...</td>\n",
       "      <td>...</td>\n",
       "      <td>...</td>\n",
       "    </tr>\n",
       "    <tr>\n",
       "      <th>11152</th>\n",
       "      <td>5EcaGTbrp1SkFrnrpAoGbm</td>\n",
       "      <td>world-music</td>\n",
       "      <td>De Nua feat. Ana Moura</td>\n",
       "      <td>Sara Tavares feat. Ana Moura,Sara Tavares,Ana ...</td>\n",
       "      <td>Balancé</td>\n",
       "      <td>https://i.scdn.co/image/ab67616d0000b273cfcdea...</td>\n",
       "      <td>2005-10-18</td>\n",
       "      <td>NaN</td>\n",
       "      <td>https://open.spotify.com/track/5EcaGTbrp1SkFrn...</td>\n",
       "      <td>0.8900</td>\n",
       "      <td>0.599</td>\n",
       "      <td>0.299</td>\n",
       "      <td>0.092300</td>\n",
       "      <td>0.0788</td>\n",
       "      <td>-14.672</td>\n",
       "      <td>0.0873</td>\n",
       "      <td>113.604</td>\n",
       "      <td>0.3160</td>\n",
       "      <td>4</td>\n",
       "    </tr>\n",
       "    <tr>\n",
       "      <th>11153</th>\n",
       "      <td>131sSSMin9GSNXBMCPsJpv</td>\n",
       "      <td>world-music</td>\n",
       "      <td>Vision</td>\n",
       "      <td>Mo'kalamity</td>\n",
       "      <td>Warriors of light</td>\n",
       "      <td>https://i.scdn.co/image/ab67616d0000b273cc5fe2...</td>\n",
       "      <td>2007-02-27</td>\n",
       "      <td>https://p.scdn.co/mp3-preview/e23062ec725a33c0...</td>\n",
       "      <td>https://open.spotify.com/track/131sSSMin9GSNXB...</td>\n",
       "      <td>0.0266</td>\n",
       "      <td>0.884</td>\n",
       "      <td>0.471</td>\n",
       "      <td>0.000046</td>\n",
       "      <td>0.1400</td>\n",
       "      <td>-6.919</td>\n",
       "      <td>0.0425</td>\n",
       "      <td>107.027</td>\n",
       "      <td>0.6460</td>\n",
       "      <td>2</td>\n",
       "    </tr>\n",
       "    <tr>\n",
       "      <th>11154</th>\n",
       "      <td>3CCGsOj2efotChiScMmCWg</td>\n",
       "      <td>world-music</td>\n",
       "      <td>A Minha Menina</td>\n",
       "      <td>Os Mutantes</td>\n",
       "      <td>\"Os Mutantes\"</td>\n",
       "      <td>https://i.scdn.co/image/ab67616d0000b27369a068...</td>\n",
       "      <td>1968-01-01</td>\n",
       "      <td>NaN</td>\n",
       "      <td>https://open.spotify.com/track/3CCGsOj2efotChi...</td>\n",
       "      <td>0.0568</td>\n",
       "      <td>0.455</td>\n",
       "      <td>0.930</td>\n",
       "      <td>0.000000</td>\n",
       "      <td>0.4640</td>\n",
       "      <td>-3.210</td>\n",
       "      <td>0.1260</td>\n",
       "      <td>91.410</td>\n",
       "      <td>0.4290</td>\n",
       "      <td>0</td>\n",
       "    </tr>\n",
       "    <tr>\n",
       "      <th>11155</th>\n",
       "      <td>5i2sgqnzaxYpvXmGAB592h</td>\n",
       "      <td>world-music</td>\n",
       "      <td>Corcovado - Quiet Nights Of Quiet Stars</td>\n",
       "      <td>Stan Getz,João Gilberto,Astrud Gilberto,Antôni...</td>\n",
       "      <td>Getz/Gilberto (Classics International Version)</td>\n",
       "      <td>https://i.scdn.co/image/ab67616d0000b2738d9a27...</td>\n",
       "      <td>1964-04</td>\n",
       "      <td>NaN</td>\n",
       "      <td>https://open.spotify.com/track/5i2sgqnzaxYpvXm...</td>\n",
       "      <td>0.9570</td>\n",
       "      <td>0.524</td>\n",
       "      <td>0.108</td>\n",
       "      <td>0.001230</td>\n",
       "      <td>0.1390</td>\n",
       "      <td>-18.361</td>\n",
       "      <td>0.0493</td>\n",
       "      <td>127.982</td>\n",
       "      <td>0.3220</td>\n",
       "      <td>4</td>\n",
       "    </tr>\n",
       "    <tr>\n",
       "      <th>11156</th>\n",
       "      <td>5RKy4qx5G3wXpwLXjTO02C</td>\n",
       "      <td>world-music</td>\n",
       "      <td>Mahalageasca - Bucovina Dub</td>\n",
       "      <td>Mahala Rai Banda</td>\n",
       "      <td>Gypsy Beats and Balkan Bangers E.P</td>\n",
       "      <td>https://i.scdn.co/image/ab67616d0000b273dc1625...</td>\n",
       "      <td>2006-06-11</td>\n",
       "      <td>NaN</td>\n",
       "      <td>https://open.spotify.com/track/5RKy4qx5G3wXpwL...</td>\n",
       "      <td>0.2510</td>\n",
       "      <td>0.852</td>\n",
       "      <td>0.796</td>\n",
       "      <td>0.696000</td>\n",
       "      <td>0.1020</td>\n",
       "      <td>-5.728</td>\n",
       "      <td>0.1510</td>\n",
       "      <td>119.983</td>\n",
       "      <td>0.8320</td>\n",
       "      <td>6</td>\n",
       "    </tr>\n",
       "  </tbody>\n",
       "</table>\n",
       "<p>11157 rows × 19 columns</p>\n",
       "</div>"
      ],
      "text/plain": [
       "                           id        genre  \\\n",
       "0      4gs07VlJST4bdxGbBsXVue     acoustic   \n",
       "1      0SuG9kyzGRpDqrCWtgD6Lq     acoustic   \n",
       "2      0vWjNkwgkTnyzfeLdTKWJ7     acoustic   \n",
       "3      1NdgDGYG4J827IvfeDgF4o     acoustic   \n",
       "4      54KFQB6N4pn926IUUYZGzK     acoustic   \n",
       "...                       ...          ...   \n",
       "11152  5EcaGTbrp1SkFrnrpAoGbm  world-music   \n",
       "11153  131sSSMin9GSNXBMCPsJpv  world-music   \n",
       "11154  3CCGsOj2efotChiScMmCWg  world-music   \n",
       "11155  5i2sgqnzaxYpvXmGAB592h  world-music   \n",
       "11156  5RKy4qx5G3wXpwLXjTO02C  world-music   \n",
       "\n",
       "                                    track_name  \\\n",
       "0                           Heartbreak Warfare   \n",
       "1                                 Give Me Love   \n",
       "2                                         Roar   \n",
       "3                           Dear Mr. President   \n",
       "4                              To Build A Home   \n",
       "...                                        ...   \n",
       "11152                   De Nua feat. Ana Moura   \n",
       "11153                                   Vision   \n",
       "11154                           A Minha Menina   \n",
       "11155  Corcovado - Quiet Nights Of Quiet Stars   \n",
       "11156              Mahalageasca - Bucovina Dub   \n",
       "\n",
       "                                             artist_name  \\\n",
       "0                                             John Mayer   \n",
       "1                                             Ed Sheeran   \n",
       "2                                     Alex Goot,Sam Tsui   \n",
       "3                                                   P!nk   \n",
       "4                 The Cinematic Orchestra,Patrick Watson   \n",
       "...                                                  ...   \n",
       "11152  Sara Tavares feat. Ana Moura,Sara Tavares,Ana ...   \n",
       "11153                                        Mo'kalamity   \n",
       "11154                                        Os Mutantes   \n",
       "11155  Stan Getz,João Gilberto,Astrud Gilberto,Antôni...   \n",
       "11156                                   Mahala Rai Banda   \n",
       "\n",
       "                                           album_name  \\\n",
       "0                                      Battle Studies   \n",
       "1                                                   +   \n",
       "2                                                Roar   \n",
       "3                                    The People Speak   \n",
       "4                                            Ma Fleur   \n",
       "...                                               ...   \n",
       "11152                                         Balancé   \n",
       "11153                               Warriors of light   \n",
       "11154                                   \"Os Mutantes\"   \n",
       "11155  Getz/Gilberto (Classics International Version)   \n",
       "11156              Gypsy Beats and Balkan Bangers E.P   \n",
       "\n",
       "                                             album_cover release_date  \\\n",
       "0      https://i.scdn.co/image/ab67616d0000b2731e3dbe...   2009-11-13   \n",
       "1      https://i.scdn.co/image/ab67616d0000b273ed139c...   2011-09-09   \n",
       "2      https://i.scdn.co/image/ab67616d0000b273742fa6...   2013-09-17   \n",
       "3      https://i.scdn.co/image/ab67616d0000b27380f5f9...   2009-01-01   \n",
       "4      https://i.scdn.co/image/ab67616d0000b273e91011...   2007-05-07   \n",
       "...                                                  ...          ...   \n",
       "11152  https://i.scdn.co/image/ab67616d0000b273cfcdea...   2005-10-18   \n",
       "11153  https://i.scdn.co/image/ab67616d0000b273cc5fe2...   2007-02-27   \n",
       "11154  https://i.scdn.co/image/ab67616d0000b27369a068...   1968-01-01   \n",
       "11155  https://i.scdn.co/image/ab67616d0000b2738d9a27...      1964-04   \n",
       "11156  https://i.scdn.co/image/ab67616d0000b273dc1625...   2006-06-11   \n",
       "\n",
       "                                            preview_link  \\\n",
       "0      https://p.scdn.co/mp3-preview/cce088114300e08d...   \n",
       "1      https://p.scdn.co/mp3-preview/1750e0969080492c...   \n",
       "2      https://p.scdn.co/mp3-preview/bf9138f2eb6dbed3...   \n",
       "3                                                    NaN   \n",
       "4      https://p.scdn.co/mp3-preview/9f30342a6568f55c...   \n",
       "...                                                  ...   \n",
       "11152                                                NaN   \n",
       "11153  https://p.scdn.co/mp3-preview/e23062ec725a33c0...   \n",
       "11154                                                NaN   \n",
       "11155                                                NaN   \n",
       "11156                                                NaN   \n",
       "\n",
       "                                            spotify_link  acousticness  \\\n",
       "0      https://open.spotify.com/track/4gs07VlJST4bdxG...        0.1910   \n",
       "1      https://open.spotify.com/track/0SuG9kyzGRpDqrC...        0.6940   \n",
       "2      https://open.spotify.com/track/0vWjNkwgkTnyzfe...        0.6950   \n",
       "3      https://open.spotify.com/track/1NdgDGYG4J827Iv...        0.8490   \n",
       "4      https://open.spotify.com/track/54KFQB6N4pn926I...        0.8850   \n",
       "...                                                  ...           ...   \n",
       "11152  https://open.spotify.com/track/5EcaGTbrp1SkFrn...        0.8900   \n",
       "11153  https://open.spotify.com/track/131sSSMin9GSNXB...        0.0266   \n",
       "11154  https://open.spotify.com/track/3CCGsOj2efotChi...        0.0568   \n",
       "11155  https://open.spotify.com/track/5i2sgqnzaxYpvXm...        0.9570   \n",
       "11156  https://open.spotify.com/track/5RKy4qx5G3wXpwL...        0.2510   \n",
       "\n",
       "       danceability  energy  instrumentalness  liveness  loudness  \\\n",
       "0             0.624   0.554          0.001310    0.2990    -8.113   \n",
       "1             0.526   0.328          0.000000    0.1120    -9.864   \n",
       "2             0.640   0.394          0.000000    0.0741    -7.258   \n",
       "3             0.476   0.299          0.000000    0.1130    -9.154   \n",
       "4             0.264   0.122          0.349000    0.0940   -15.399   \n",
       "...             ...     ...               ...       ...       ...   \n",
       "11152         0.599   0.299          0.092300    0.0788   -14.672   \n",
       "11153         0.884   0.471          0.000046    0.1400    -6.919   \n",
       "11154         0.455   0.930          0.000000    0.4640    -3.210   \n",
       "11155         0.524   0.108          0.001230    0.1390   -18.361   \n",
       "11156         0.852   0.796          0.696000    0.1020    -5.728   \n",
       "\n",
       "       speechiness    tempo  valence  playlist_mood  \n",
       "0           0.0225   97.031   0.3110              2  \n",
       "1           0.0461  116.068   0.1100              7  \n",
       "2           0.0263   89.963   0.4250              3  \n",
       "3           0.0385  128.039   0.2970              7  \n",
       "4           0.0349  148.658   0.0735              1  \n",
       "...            ...      ...      ...            ...  \n",
       "11152       0.0873  113.604   0.3160              4  \n",
       "11153       0.0425  107.027   0.6460              2  \n",
       "11154       0.1260   91.410   0.4290              0  \n",
       "11155       0.0493  127.982   0.3220              4  \n",
       "11156       0.1510  119.983   0.8320              6  \n",
       "\n",
       "[11157 rows x 19 columns]"
      ]
     },
     "execution_count": 36,
     "metadata": {},
     "output_type": "execute_result"
    }
   ],
   "source": [
    "Test_Data['playlist_mood'] = RFclassifier.predict(X)\n",
    "Test_Data"
   ]
  },
  {
   "cell_type": "code",
   "execution_count": 37,
   "id": "47d49546",
   "metadata": {},
   "outputs": [
    {
     "data": {
      "text/plain": [
       "{7: 'Sad',\n",
       " 0: 'Angry',\n",
       " 8: 'Sleepy',\n",
       " 4: 'Depressed',\n",
       " 6: 'Happy',\n",
       " 1: 'Calm',\n",
       " 2: 'Content',\n",
       " 5: 'Excited',\n",
       " 3: 'Delighted'}"
      ]
     },
     "execution_count": 37,
     "metadata": {},
     "output_type": "execute_result"
    }
   ],
   "source": [
    "import json\n",
    "d = DecodingMap.to_dict()['encoding']\n",
    "d = dict([(value,key) for key, value in d.items()])\n",
    "d"
   ]
  },
  {
   "cell_type": "code",
   "execution_count": 38,
   "id": "2991bab8",
   "metadata": {},
   "outputs": [],
   "source": [
    "Test_Data['playlist_mood'] = Test_Data['playlist_mood'].map(d)"
   ]
  },
  {
   "cell_type": "code",
   "execution_count": 39,
   "id": "da5d4a9f",
   "metadata": {},
   "outputs": [
    {
     "data": {
      "text/plain": [
       "array(['Content', 'Sad', 'Delighted', 'Calm', 'Angry', 'Depressed',\n",
       "       'Happy', 'Excited', 'Sleepy'], dtype=object)"
      ]
     },
     "execution_count": 39,
     "metadata": {},
     "output_type": "execute_result"
    }
   ],
   "source": [
    "Test_Data['playlist_mood'].unique()"
   ]
  },
  {
   "cell_type": "code",
   "execution_count": 40,
   "id": "e13cfffa",
   "metadata": {},
   "outputs": [],
   "source": [
    "ExcitedPlaylist = Test_Data.loc[Test_Data['playlist_mood'] == \"Excited\"]\n",
    "HappyPlaylist = Test_Data.loc[Test_Data['playlist_mood'] == \"Happy\"]\n",
    "DelightedPlaylist = Test_Data.loc[Test_Data['playlist_mood'] == \"Delighted\"]\n",
    "ContentPlaylist = Test_Data.loc[Test_Data['playlist_mood'] == \"Content\"]\n",
    "CalmPlaylist = Test_Data.loc[Test_Data['playlist_mood'] == \"Calm\"]\n",
    "SadPlaylist = Test_Data.loc[Test_Data['playlist_mood'] == \"Sad\"]\n",
    "DepressedPlaylist = Test_Data.loc[Test_Data['playlist_mood'] == \"Depressed\"]\n",
    "SleepyPlaylist = Test_Data.loc[Test_Data['playlist_mood'] == \"Sleepy\"]\n",
    "AngryPlaylist = Test_Data.loc[Test_Data['playlist_mood'] == \"Angry\"]"
   ]
  },
  {
   "cell_type": "code",
   "execution_count": 41,
   "id": "9eed3d27",
   "metadata": {},
   "outputs": [],
   "source": [
    "import os\n",
    "path = './Data/Models/M1Playlists'\n",
    "if not os.path.exists(path):\n",
    "    os.makedirs(path)\n",
    "\n",
    "csvPath = os.path.join(path, 'Excited.csv')\n",
    "ExcitedPlaylist.to_csv(csvPath, index=False)\n",
    "\n",
    "csvPath = os.path.join(path, 'Delighted.csv')\n",
    "DelightedPlaylist.to_csv(csvPath, index=False)\n",
    "\n",
    "csvPath = os.path.join(path, 'Happy.csv')\n",
    "HappyPlaylist.to_csv(csvPath, index=False)\n",
    "\n",
    "csvPath = os.path.join(path, 'Content.csv')\n",
    "ContentPlaylist.to_csv(csvPath, index=False)\n",
    "\n",
    "csvPath = os.path.join(path, 'Calm.csv')\n",
    "CalmPlaylist.to_csv(csvPath, index=False)\n",
    "\n",
    "csvPath = os.path.join(path, 'Sleepy.csv')\n",
    "SleepyPlaylist.to_csv(csvPath, index=False)\n",
    "\n",
    "csvPath = os.path.join(path, 'Depressed.csv')\n",
    "DepressedPlaylist.to_csv(csvPath, index=False)\n",
    "\n",
    "csvPath = os.path.join(path, 'Sad.csv')\n",
    "SadPlaylist.to_csv(csvPath, index=False)\n",
    "\n",
    "csvPath = os.path.join(path, 'Angry.csv')\n",
    "AngryPlaylist.to_csv(csvPath, index=False)"
   ]
  },
  {
   "cell_type": "code",
   "execution_count": null,
   "id": "88218297",
   "metadata": {},
   "outputs": [],
   "source": []
  }
 ],
 "metadata": {
  "kernelspec": {
   "display_name": "Python 3 (ipykernel)",
   "language": "python",
   "name": "python3"
  },
  "language_info": {
   "codemirror_mode": {
    "name": "ipython",
    "version": 3
   },
   "file_extension": ".py",
   "mimetype": "text/x-python",
   "name": "python",
   "nbconvert_exporter": "python",
   "pygments_lexer": "ipython3",
   "version": "3.9.7"
  }
 },
 "nbformat": 4,
 "nbformat_minor": 5
}
