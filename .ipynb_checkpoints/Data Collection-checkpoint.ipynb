{
 "cells": [
  {
   "cell_type": "code",
   "execution_count": 9,
   "id": "b45eb639",
   "metadata": {},
   "outputs": [
    {
     "name": "stdout",
     "output_type": "stream",
     "text": [
      "Collecting spotipy\n",
      "  Downloading spotipy-2.19.0-py3-none-any.whl (27 kB)\n",
      "Requirement already satisfied: urllib3>=1.26.0 in /Users/sanjanashivanand/opt/anaconda3/lib/python3.9/site-packages (from spotipy) (1.26.7)\n",
      "Requirement already satisfied: six>=1.15.0 in /Users/sanjanashivanand/opt/anaconda3/lib/python3.9/site-packages (from spotipy) (1.16.0)\n",
      "Requirement already satisfied: requests>=2.25.0 in /Users/sanjanashivanand/opt/anaconda3/lib/python3.9/site-packages (from spotipy) (2.26.0)\n",
      "Requirement already satisfied: idna<4,>=2.5 in /Users/sanjanashivanand/opt/anaconda3/lib/python3.9/site-packages (from requests>=2.25.0->spotipy) (3.2)\n",
      "Requirement already satisfied: certifi>=2017.4.17 in /Users/sanjanashivanand/opt/anaconda3/lib/python3.9/site-packages (from requests>=2.25.0->spotipy) (2021.10.8)\n",
      "Requirement already satisfied: charset-normalizer~=2.0.0 in /Users/sanjanashivanand/opt/anaconda3/lib/python3.9/site-packages (from requests>=2.25.0->spotipy) (2.0.4)\n",
      "Installing collected packages: spotipy\n",
      "Successfully installed spotipy-2.19.0\n"
     ]
    }
   ],
   "source": [
    "!pip install spotipy"
   ]
  },
  {
   "cell_type": "code",
   "execution_count": 1,
   "id": "a2f78de9",
   "metadata": {},
   "outputs": [],
   "source": [
    "import SpotifyCustomFunctions"
   ]
  },
  {
   "cell_type": "code",
   "execution_count": 26,
   "id": "4263278c",
   "metadata": {},
   "outputs": [],
   "source": [
    "CLIENT_ID = \"025b3fc46b48490c9d2b54cbf1d12888\"\n",
    "CLIENT_SECRET = \"c0344ada6e0c4f67b480c0e9c08f1975\"\n",
    "\n",
    "client_credentials_manager = SpotifyClientCredentials(client_id=CLIENT_ID, client_secret=CLIENT_SECRET)\n",
    "sp = spotipy.Spotify(client_credentials_manager=client_credentials_manager)"
   ]
  },
  {
   "cell_type": "code",
   "execution_count": 3,
   "id": "aa1acd7d",
   "metadata": {},
   "outputs": [],
   "source": [
    "sf = Sp"
   ]
  },
  {
   "cell_type": "code",
   "execution_count": 15,
   "id": "92f3bc11",
   "metadata": {},
   "outputs": [],
   "source": [
    "s"
   ]
  },
  {
   "cell_type": "code",
   "execution_count": 7,
   "id": "5689184a",
   "metadata": {},
   "outputs": [
    {
     "ename": "AttributeError",
     "evalue": "'Spotify' object has no attribute 'user_playlists'",
     "output_type": "error",
     "traceback": [
      "\u001b[0;31m---------------------------------------------------------------------------\u001b[0m",
      "\u001b[0;31mAttributeError\u001b[0m                            Traceback (most recent call last)",
      "\u001b[0;32m/var/folders/qq/gzz0134n1mx44symdsxbl19r0000gn/T/ipykernel_11527/4169725079.py\u001b[0m in \u001b[0;36m<module>\u001b[0;34m\u001b[0m\n\u001b[0;32m----> 1\u001b[0;31m \u001b[0mgetUserPlaylists\u001b[0m\u001b[0;34m(\u001b[0m\u001b[0;34m'mikeydays'\u001b[0m\u001b[0;34m)\u001b[0m\u001b[0;34m\u001b[0m\u001b[0;34m\u001b[0m\u001b[0m\n\u001b[0m",
      "\u001b[0;32m/var/folders/qq/gzz0134n1mx44symdsxbl19r0000gn/T/ipykernel_11527/2005301124.py\u001b[0m in \u001b[0;36mgetUserPlaylists\u001b[0;34m(username)\u001b[0m\n\u001b[1;32m      3\u001b[0m     \u001b[0mplaylistNames\u001b[0m \u001b[0;34m=\u001b[0m \u001b[0;34m[\u001b[0m\u001b[0;34m]\u001b[0m\u001b[0;34m\u001b[0m\u001b[0;34m\u001b[0m\u001b[0m\n\u001b[1;32m      4\u001b[0m     \u001b[0mplaylisturis\u001b[0m \u001b[0;34m=\u001b[0m \u001b[0;34m[\u001b[0m\u001b[0;34m]\u001b[0m\u001b[0;34m\u001b[0m\u001b[0;34m\u001b[0m\u001b[0m\n\u001b[0;32m----> 5\u001b[0;31m     \u001b[0mplaylists\u001b[0m \u001b[0;34m=\u001b[0m \u001b[0msp\u001b[0m\u001b[0;34m.\u001b[0m\u001b[0muser_playlists\u001b[0m\u001b[0;34m(\u001b[0m\u001b[0musername\u001b[0m\u001b[0;34m)\u001b[0m\u001b[0;34m\u001b[0m\u001b[0;34m\u001b[0m\u001b[0m\n\u001b[0m",
      "\u001b[0;31mAttributeError\u001b[0m: 'Spotify' object has no attribute 'user_playlists'"
     ]
    }
   ],
   "source": []
  },
  {
   "cell_type": "code",
   "execution_count": 8,
   "id": "1ecbb15d",
   "metadata": {},
   "outputs": [
    {
     "ename": "AttributeError",
     "evalue": "'Spotify' object has no attribute 'help'",
     "output_type": "error",
     "traceback": [
      "\u001b[0;31m---------------------------------------------------------------------------\u001b[0m",
      "\u001b[0;31mAttributeError\u001b[0m                            Traceback (most recent call last)",
      "\u001b[0;32m/var/folders/qq/gzz0134n1mx44symdsxbl19r0000gn/T/ipykernel_11527/1456552347.py\u001b[0m in \u001b[0;36m<module>\u001b[0;34m\u001b[0m\n\u001b[0;32m----> 1\u001b[0;31m \u001b[0msp\u001b[0m\u001b[0;34m.\u001b[0m\u001b[0mhelp\u001b[0m\u001b[0;34m(\u001b[0m\u001b[0;34m)\u001b[0m\u001b[0;34m\u001b[0m\u001b[0;34m\u001b[0m\u001b[0m\n\u001b[0m",
      "\u001b[0;31mAttributeError\u001b[0m: 'Spotify' object has no attribute 'help'"
     ]
    }
   ],
   "source": [
    "sp.help()"
   ]
  },
  {
   "cell_type": "code",
   "execution_count": null,
   "id": "845fa452",
   "metadata": {},
   "outputs": [],
   "source": []
  }
 ],
 "metadata": {
  "kernelspec": {
   "display_name": "Python 3 (ipykernel)",
   "language": "python",
   "name": "python3"
  },
  "language_info": {
   "codemirror_mode": {
    "name": "ipython",
    "version": 3
   },
   "file_extension": ".py",
   "mimetype": "text/x-python",
   "name": "python",
   "nbconvert_exporter": "python",
   "pygments_lexer": "ipython3",
   "version": "3.9.7"
  }
 },
 "nbformat": 4,
 "nbformat_minor": 5
}
