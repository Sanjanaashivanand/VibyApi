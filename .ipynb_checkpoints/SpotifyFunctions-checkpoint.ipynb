{
 "cells": [
  {
   "cell_type": "code",
   "execution_count": 1,
   "id": "e5fb15b8",
   "metadata": {},
   "outputs": [],
   "source": [
    "import numpy as np\n",
    "import pandas as pd\n",
    "import random\n",
    "import spotipy\n",
    "from spotipy.oauth2 import SpotifyClientCredentials"
   ]
  },
  {
   "cell_type": "code",
   "execution_count": 2,
   "id": "48ecde2d",
   "metadata": {},
   "outputs": [],
   "source": [
    "CLIENT_ID = \"025b3fc46b48490c9d2b54cbf1d12888\"\n",
    "CLIENT_SECRET = \"c0344ada6e0c4f67b480c0e9c08f1975\""
   ]
  },
  {
   "cell_type": "code",
   "execution_count": null,
   "id": "3e4d8989",
   "metadata": {},
   "outputs": [],
   "source": [
    "class Spotify_Fucntions:\n",
    "    def __init__(self):\n",
    "        self.CLIENT_ID = \"025b3fc46b48490c9d2b54cbf1d12888\"\n",
    "        self.CLIENT_SECRET = \"c0344ada6e0c4f67b480c0e9c08f1975\"\n",
    "        \n",
    "        self.sp = self.authentication()\n",
    "        \n",
    "    def authentication(self):\n",
    "        client_credentials_manager = SpotifyClientCredentials(client_id=self.CLIENT_ID, client_secret=self.CLIENT_SECRET)\n",
    "        sp = spotipy.Spotify(client_credentials_manager=client_credentials_manager)\n",
    "        \n",
    "        return sp\n",
    "    \n",
    "    def getUsersPlaylists(self, username='Spotify'):\n",
    "        playlistNames = []\n",
    "        playlistUris = []\n",
    "        playlists = self.sp.user_playlists(username)\n",
    "\n",
    "        for p in playlists['items']:\n",
    "            playlistNames.append(p['name'].encode('ascii', 'ignore').decode('ascii'))\n",
    "            playlistUris.append(p['uri'].split(':')[2])\n",
    "\n",
    "        \n",
    "        return pd.DataFrame({'name' : playlistNames, 'uri' : playlistUris}, \\\n",
    "         columns=['name', 'uri'])"
   ]
  }
 ],
 "metadata": {
  "kernelspec": {
   "display_name": "Python 3 (ipykernel)",
   "language": "python",
   "name": "python3"
  },
  "language_info": {
   "codemirror_mode": {
    "name": "ipython",
    "version": 3
   },
   "file_extension": ".py",
   "mimetype": "text/x-python",
   "name": "python",
   "nbconvert_exporter": "python",
   "pygments_lexer": "ipython3",
   "version": "3.9.7"
  }
 },
 "nbformat": 4,
 "nbformat_minor": 5
}
